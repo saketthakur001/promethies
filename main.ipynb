{
 "cells": [
  {
   "cell_type": "markdown",
   "metadata": {},
   "source": [
    "# meditation"
   ]
  },
  {
   "cell_type": "code",
   "execution_count": null,
   "metadata": {},
   "outputs": [],
   "source": [
    "class "
   ]
  },
  {
   "cell_type": "markdown",
   "metadata": {},
   "source": [
    "# Database part\n",
    "add all of my activity to a database\n"
   ]
  },
  {
   "cell_type": "code",
   "execution_count": 4,
   "metadata": {},
   "outputs": [],
   "source": [
    "import os\n",
    "\n",
    "class TaskForge:\n",
    "    def __init__(self, file_path):\n",
    "        self.file_path = file_path\n",
    "        self.initialize_files()\n",
    "\n",
    "    def initialize_files(self):\n",
    "        if not os.path.exists(self.file_path):\n",
    "            with open(self.file_path, 'w') as file:\n",
    "                file.write(\"\")\n",
    "\n",
    "    def update_priority(self, task, details_dict):\n",
    "        i = 0  # Initialize i here to avoid UnboundLocalError\n",
    "        with open(self.file_path, 'r') as file:\n",
    "            data = file.readlines()\n",
    "\n",
    "        # Locate the line with the priority section for the given task\n",
    "        for i, line in enumerate(data):\n",
    "            if line.startswith(f\"## {task}\"):\n",
    "                break\n",
    "\n",
    "        # Update the priority section\n",
    "        data[i + 1:i + len(details_dict) + 1] = [f\"  - {item}\\n\" for item in details_dict]\n",
    "\n",
    "        # Write back to the file\n",
    "        with open(self.file_path, 'w') as file:\n",
    "            file.writelines(data)\n",
    "\n",
    "# Example Usage\n",
    "task_forge = TaskForge('TaskForge.md')\n",
    "\n",
    "# Update details for Books\n",
    "task_forge.update_priority(\"Books\", {\n",
    "    \"The Great Gatsby\": \"Priority: 8\\nGenre: Fiction\\nAuthor: F. Scott Fitzgerald\\nStatus: In Progress\",\n",
    "    \"1984\": \"Priority: 7\\nGenre: Dystopian\\nAuthor: George Orwell\\nStatus: To Read\",\n",
    "    \"To Kill a Mockingbird\": \"Priority: 6\\nGenre: Classic\\nAuthor: Harper Lee\\nStatus: Not Started\"\n",
    "})\n",
    "\n",
    "# Update details for Movies\n",
    "task_forge.update_priority(\"Movies\", {\n",
    "    \"Inception\": \"Priority: 9\\nGenre: Sci-Fi\\nDirector: Christopher Nolan\\nStatus: Watched\",\n",
    "    \"The Matrix\": \"Priority: 7\\nGenre: Action\\nDirector: Lana Wachowski, Lilly Wachowski\\nStatus: To Watch\",\n",
    "    \"The Shawshank Redemption\": \"Priority: 8\\nGenre: Drama\\nDirector: Frank Darabont\\nStatus: Watched\"\n",
    "})\n",
    "\n",
    "# Update details for Meditation\n",
    "task_forge.update_priority(\"Meditation\", {\n",
    "    \"Morning meditation\": \"Priority: 9\\nDuration: 15 minutes\\nStatus: Completed\",\n",
    "    \"Evening meditation\": \"Priority: 8\\nDuration: 10 minutes\\nStatus: In Progress\",\n",
    "    \"Mindful breathing exercise\": \"Priority: 7\\nDuration: 5 minutes\\nStatus: Not Started\"\n",
    "})\n"
   ]
  },
  {
   "cell_type": "code",
   "execution_count": 5,
   "metadata": {},
   "outputs": [],
   "source": [
    "import os\n",
    "\n",
    "class TaskForge:\n",
    "    def __init__(self, file_path):\n",
    "        self.file_path = file_path\n",
    "        self.initialize_files()\n",
    "\n",
    "    def initialize_files(self):\n",
    "        if not os.path.exists(self.file_path):\n",
    "            with open(self.file_path, 'w') as file:\n",
    "                file.write(\"# TaskForge Priorities\\n\\n## Books\\n- File: books_tasks.md\\n- History: books_history.md\\n\\n\"\n",
    "                           \"## Movies\\n- File: movies_tasks.md\\n- History: movies_history.md\\n\\n\"\n",
    "                           \"## Meditation\\n- File: meditation_tasks.md\\n- History: meditation_history.md\")\n",
    "\n",
    "    def update_tasks(self, task, tasks_list):\n",
    "        tasks_file = f\"{task.lower()}_tasks.md\"\n",
    "        with open(tasks_file, 'w') as file:\n",
    "            file.write(f\"# {task} Tasks\\n\\n\")\n",
    "            for item in tasks_list:\n",
    "                file.write(f\"- {item}\\n\")\n",
    "\n",
    "    def update_history(self, task, history_list):\n",
    "        history_file = f\"{task.lower()}_history.md\"\n",
    "        with open(history_file, 'w') as file:\n",
    "            file.write(f\"# {task} History\\n\\n\")\n",
    "            for item in history_list:\n",
    "                file.write(f\"- {item}\\n\")\n",
    "\n",
    "# Example Usage\n",
    "task_forge = TaskForge('TaskForge.md')\n",
    "\n",
    "# Update tasks for Books\n",
    "task_forge.update_tasks(\"Books\", [\"The Great Gatsby\", \"1984\", \"To Kill a Mockingbird\"])\n",
    "\n",
    "# Update tasks for Movies\n",
    "task_forge.update_tasks(\"Movies\", [\"Inception\", \"The Matrix\", \"The Shawshank Redemption\"])\n",
    "\n",
    "# Update tasks for Meditation\n",
    "task_forge.update_tasks(\"Meditation\", [\"Morning meditation\", \"Evening meditation\", \"Mindful breathing exercise\"])\n",
    "\n",
    "# Update history for Books\n",
    "task_forge.update_history(\"Books\", [\"Completed: The Catcher in the Rye\", \"Abandoned: The Old Man and the Sea\"])\n",
    "\n",
    "# Update history for Movies\n",
    "task_forge.update_history(\"Movies\", [\"Watched: Inception\", \"To Watch: The Godfather\"])\n",
    "\n",
    "# Update history for Meditation\n",
    "task_forge.update_history(\"Meditation\", [\"Completed: 30 minutes meditation on 2024-01-18\",\n",
    "                                         \"In Progress: 15 minutes meditation on 2024-01-17\"])\n"
   ]
  }
 ],
 "metadata": {
  "kernelspec": {
   "display_name": "base",
   "language": "python",
   "name": "python3"
  },
  "language_info": {
   "codemirror_mode": {
    "name": "ipython",
    "version": 3
   },
   "file_extension": ".py",
   "mimetype": "text/x-python",
   "name": "python",
   "nbconvert_exporter": "python",
   "pygments_lexer": "ipython3",
   "version": "3.11.5"
  }
 },
 "nbformat": 4,
 "nbformat_minor": 2
}
