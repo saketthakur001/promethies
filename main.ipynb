{
 "cells": [
  {
   "cell_type": "markdown",
   "metadata": {},
   "source": [
    "# meditation"
   ]
  },
  {
   "cell_type": "code",
   "execution_count": null,
   "metadata": {},
   "outputs": [],
   "source": [
    "class "
   ]
  },
  {
   "cell_type": "markdown",
   "metadata": {},
   "source": [
    "# Database part\n",
    "add all of my activity to a database\n"
   ]
  },
  {
   "cell_type": "code",
   "execution_count": 1,
   "metadata": {},
   "outputs": [],
   "source": [
    "# import os\n",
    "\n",
    "# class TaskForge:\n",
    "#     def __init__(self, file_path):\n",
    "#         self.file_path = file_path\n",
    "#         self.initialize_files()\n",
    "\n",
    "#     def initialize_files(self):\n",
    "#         if not os.path.exists(self.file_path):\n",
    "#             with open(self.file_path, 'w') as file:\n",
    "#                 file.write(\"\")\n",
    "\n",
    "#     def update_priority(self, task, details_dict):\n",
    "#         i = 0  # Initialize i here to avoid UnboundLocalError\n",
    "#         with open(self.file_path, 'r') as file:\n",
    "#             data = file.readlines()\n",
    "\n",
    "#         # Locate the line with the priority section for the given task\n",
    "#         for i, line in enumerate(data):\n",
    "#             if line.startswith(f\"## {task}\"):\n",
    "#                 break\n",
    "\n",
    "#         # Update the priority section\n",
    "#         data[i + 1:i + len(details_dict) + 1] = [f\"  - {item}\\n\" for item in details_dict]\n",
    "\n",
    "#         # Write back to the file\n",
    "#         with open(self.file_path, 'w') as file:\n",
    "#             file.writelines(data)\n",
    "\n",
    "# # Example Usage\n",
    "# task_forge = TaskForge('TaskForge.md')\n",
    "\n",
    "# # Update details for Books\n",
    "# task_forge.update_priority(\"Books\", {\n",
    "#     \"The Great Gatsby\": \"Priority: 8\\nGenre: Fiction\\nAuthor: F. Scott Fitzgerald\\nStatus: In Progress\",\n",
    "#     \"1984\": \"Priority: 7\\nGenre: Dystopian\\nAuthor: George Orwell\\nStatus: To Read\",\n",
    "#     \"To Kill a Mockingbird\": \"Priority: 6\\nGenre: Classic\\nAuthor: Harper Lee\\nStatus: Not Started\"\n",
    "# })\n",
    "\n",
    "# # Update details for Movies\n",
    "# task_forge.update_priority(\"Movies\", {\n",
    "#     \"Inception\": \"Priority: 9\\nGenre: Sci-Fi\\nDirector: Christopher Nolan\\nStatus: Watched\",\n",
    "#     \"The Matrix\": \"Priority: 7\\nGenre: Action\\nDirector: Lana Wachowski, Lilly Wachowski\\nStatus: To Watch\",\n",
    "#     \"The Shawshank Redemption\": \"Priority: 8\\nGenre: Drama\\nDirector: Frank Darabont\\nStatus: Watched\"\n",
    "# })\n",
    "\n",
    "# # Update details for Meditation\n",
    "# task_forge.update_priority(\"Meditation\", {\n",
    "#     \"Morning meditation\": \"Priority: 9\\nDuration: 15 minutes\\nStatus: Completed\",\n",
    "#     \"Evening meditation\": \"Priority: 8\\nDuration: 10 minutes\\nStatus: In Progress\",\n",
    "#     \"Mindful breathing exercise\": \"Priority: 7\\nDuration: 5 minutes\\nStatus: Not Started\"\n",
    "# })\n"
   ]
  },
  {
   "cell_type": "code",
   "execution_count": 58,
   "metadata": {},
   "outputs": [
    {
     "name": "stdout",
     "output_type": "stream",
     "text": [
      "Meditation history file not found.\n",
      "None\n"
     ]
    }
   ],
   "source": [
    "import os\n",
    "from datetime import datetime\n",
    "\n",
    "class TaskForge:\n",
    "    def __init__(self, file_path):\n",
    "        self.file_path = file_path\n",
    "        self.initialize_files()\n",
    "\n",
    "    def initialize_files(self):\n",
    "        if not os.path.exists(self.file_path):\n",
    "            with open(self.file_path, 'w') as file:\n",
    "                file.write(\"# TaskForge Priorities\\n\\n\"\n",
    "                           \"## Books\\n- Priority: 7\\n- File: books_tasks.md\\n- History: books_history.md\\n\\n\"\n",
    "                           \"## Movies\\n- Priority: 5\\n- File: movies_tasks.md\\n- History: movies_history.md\\n\\n\"\n",
    "                           \"## Music\\n- Priority: 8\\n- File: music_tasks.md\\n- History: music_history.md\\n\\n\"\n",
    "                           \"## Meditation\\n- Priority: 9\\n- File: meditation_tasks.md\\n- History: meditation_history.md\")\n",
    "\n",
    "    def update_tasks(self, task, tasks_list, priority):\n",
    "        tasks_file = f\"{task.lower()}.tasks.md\"\n",
    "        with open(tasks_file, 'w') as file:\n",
    "            file.write(f\"# {task} Tasks\\n\\nPriority: {priority}\\n\\n\")\n",
    "            for item in tasks_list:\n",
    "                file.write(f\"- {item}\\n\")\n",
    "\n",
    "    def update_history(self, task, history_list):\n",
    "        history_file = f\"{task.lower()}.history.md\"\n",
    "        timestamp = datetime.now().strftime(\"%Y-%m-%d %H:%M:%S\")\n",
    "        with open(history_file, 'a') as file:\n",
    "            for item in history_list:\n",
    "                file.write(f\"- {item} --on-time-- {timestamp}\\n\")\n",
    "\n",
    "    def check_meditation(self):\n",
    "        history_file = 'meditation_history.md'\n",
    "        try:\n",
    "            with open(history_file, 'r') as file:\n",
    "                lines = file.readlines()\n",
    "\n",
    "            if lines:\n",
    "                last_meditation_line = lines[-1]\n",
    "                last_meditation_timestamp = last_meditation_line.split('--on-time--')[-1].strip()\n",
    "                last_meditation_time = datetime.strptime(last_meditation_timestamp, \"%Y-%m-%d %H:%M:%S\")\n",
    "                time_since_last_meditation = datetime.now() - last_meditation_time\n",
    "                # print(f\"It's been {time_since_last_meditation.days} days, {time_since_last_meditation.seconds // 3600} hours, and \"\n",
    "                #       f\"{(time_since_last_meditation.seconds // 60) % 60} minutes since your last meditation.\")\n",
    "                return datetime.now() - last_meditation_time\n",
    "            else:\n",
    "                return False\n",
    "                print(\"No meditation history found.\")\n",
    "        except FileNotFoundError:\n",
    "            print(\"Meditation history file not found.\")\n",
    "\n",
    "# Example Usage\n",
    "task_forge = TaskForge('TaskForge.md')\n",
    "\n",
    "# Check how long it's been since the last meditation\n",
    "task_forge.update_history(\"Meditation\", [\"Completed: 30 minutes meditation\"])\n",
    "\n",
    "print(task_forge.check_meditation())\n"
   ]
  },
  {
   "cell_type": "code",
   "execution_count": 59,
   "metadata": {},
   "outputs": [],
   "source": [
    "import markdown\n",
    "import datetime\n",
    "\n",
    "def read_md_file(filename):\n",
    "    \"\"\"Reads an MD file and returns its contents as a list of lines.\"\"\"\n",
    "    with open(filename, 'r') as file:\n",
    "        md_content = file.readlines()\n",
    "    return md_content\n",
    "\n",
    "def write_md_file(filename, text, append=True):\n",
    "    \"\"\"Writes text to an MD file, optionally appending to existing content.\"\"\"\n",
    "    timestamp = datetime.datetime.now().strftime(\"%Y-%m-%d %H:%M:%S\")\n",
    "    formatted_text = f\"# Updated on {timestamp}\\n\\n{text}\"\n",
    "    markdown_text = markdown.markdown(formatted_text)  # Convert to HTML\n",
    "\n",
    "    with open(filename, 'a' if append else 'w') as file:\n",
    "        file.write(markdown_text)\n"
   ]
  },
  {
   "cell_type": "code",
   "execution_count": 68,
   "metadata": {},
   "outputs": [
    {
     "data": {
      "text/plain": [
       "\"C:\\\\Users\\\\saket\\\\OneDrive\\\\onedrive saket8n\\\\OneDrive\\\\Documents\\\\MyObsidian\\\\Saket's Mind\""
      ]
     },
     "execution_count": 68,
     "metadata": {},
     "output_type": "execute_result"
    }
   ],
   "source": [
    "import markdown\n",
    "import datetime\n",
    "\n",
    "obsedion_loc = r\"C:\\Users\\saket\\OneDrive\\onedrive saket8n\\OneDrive\\Documents\\MyObsidian\\Saket's Mind\"\n",
    "\n",
    "def write_md_file(filename, text, append=True):\n",
    "    \"\"\"Writes text to an MD file, optionally appending to existing content.\"\"\"\n",
    "    timestamp = datetime.datetime.now().strftime(\"%Y-%m-%d %H:%M:%S\")\n",
    "    # formatted_text = f\"# Date :==: {timestamp}\\n\\n{text}\"\n",
    "    formatted_text = f\"\\n\\n{text} --date-- {timestamp}\"\n",
    "    # markdown_text = markdown.markdown(formatted_text)  # Convert to HTML\n",
    "\n",
    "\n",
    "    with open(obsedion_loc+'\\\\'+filename, 'a' if append else 'w') as file:\n",
    "        # file.write(markdown_text)\n",
    "        file.write(formatted_text)\n",
    "\n",
    "obsedion_loc"
   ]
  },
  {
   "cell_type": "code",
   "execution_count": 66,
   "metadata": {},
   "outputs": [
    {
     "name": "stdout",
     "output_type": "stream",
     "text": [
      " Hi there, you have your exams so try to think more, store your thoughts if you have any and just study more.\n",
      "a one constant mind that is stable, no wipeouts no nothing\n",
      "\n",
      "summery:\n",
      "1. don't meditate make your life a meditation\n",
      "2. try not to think about people, stay away from their attention except some special people\n",
      "3. think more\n",
      "4. store thoughts if have any\n",
      "5. talk less, equavelent to 0\n",
      "6. but smilke so that people would know that you are OK\n",
      "7. be true be real be the more amplified verison of yourself(but the wise one's amplified).\n",
      "\n",
      "        kindly improve the message :)\n",
      "    \n"
     ]
    }
   ],
   "source": [
    "def reminder():\n",
    "    input_ = input('don\\'t read this around people, you have a message \\n password?: ')\n",
    "    message = ''' Hi there, you have your exams so try to think more, store your thoughts if you have any and just study more.\n",
    "a one constant mind that is stable, no wipeouts no nothing\n",
    "\n",
    "summery:\n",
    "1. don't meditate make your life a meditation\n",
    "2. try not to think about people, stay away from their attention except some special people\n",
    "3. think more\n",
    "4. store thoughts if have any\n",
    "5. talk less, equavelent to 0\n",
    "6. but smilke so that people would know that you are OK\n",
    "7. be true be real be the more amplified verison of yourself(but the wise one's amplified).\n",
    "\n",
    "        kindly improve the message :)\n",
    "    '''\n",
    "\n",
    "    if input_ != 'ye' and input_ !='people around me':\n",
    "        return 'sucker brain, wrong password, please don\\'t go hacker man on me ok. 🙇🙏'\n",
    "\n",
    "    elif input_ == 'ye':\n",
    "        print(message)\n",
    "        input_ = input('how much would you rate your recent doings? : ')\n",
    "        write_md_file('me_ratings.md', input_)\n",
    "    write_md_file('thinkeyMode.md', '+' * 10 + message)\n",
    "    input_ = input('any thought you wanna store?: ')\n",
    "    write_md_file('ThinkeyThoughts', input_)\n",
    "\n",
    "reminder()\n"
   ]
  },
  {
   "cell_type": "code",
   "execution_count": 19,
   "metadata": {},
   "outputs": [
    {
     "data": {
      "text/plain": [
       "8"
      ]
     },
     "execution_count": 19,
     "metadata": {},
     "output_type": "execute_result"
    }
   ],
   "source": [
    "8\n",
    "875 - 867\n"
   ]
  },
  {
   "cell_type": "code",
   "execution_count": 26,
   "metadata": {},
   "outputs": [
    {
     "name": "stdout",
     "output_type": "stream",
     "text": [
      "# example_file.md - Created on 2024-01-26 21:37:36\n",
      "\n",
      "This is some content.\n"
     ]
    }
   ],
   "source": [
    "from datetime import datetime\n",
    "\n",
    "# def write_to_file(filename, content, time_stamp=True):\n",
    "#     with open(filename, 'w') as file:\n",
    "#         if time_stamp:\n",
    "#             timestamp = datetime.now().strftime(\"%Y-%m-%d %H:%M:%S\")\n",
    "#             file.write(f\"# {filename} - Created on {timestamp}\\n\\n\")\n",
    "#         file.write(content)\n",
    "\n",
    "# def read_from_file(filename):\n",
    "#     try:\n",
    "#         with open(filename, 'r') as file:\n",
    "#             content = file.read()\n",
    "#             return content\n",
    "#     except FileNotFoundError:\n",
    "#         return f\"File '{filename}' not found.\"\n",
    "\n",
    "# Example usage:\n",
    "file_content = \"This is some content.\"\n",
    "write_to_file(\"example_file.md\", file_content)\n",
    "\n",
    "read_content = read_from_file(\"example_file.md\")\n",
    "print(read_content)\n"
   ]
  },
  {
   "cell_type": "code",
   "execution_count": 1,
   "metadata": {},
   "outputs": [
    {
     "ename": "SyntaxError",
     "evalue": "incomplete input (1220399514.py, line 2)",
     "output_type": "error",
     "traceback": [
      "\u001b[1;36m  Cell \u001b[1;32mIn[1], line 2\u001b[1;36m\u001b[0m\n\u001b[1;33m    \u001b[0m\n\u001b[1;37m    ^\u001b[0m\n\u001b[1;31mSyntaxError\u001b[0m\u001b[1;31m:\u001b[0m incomplete input\n"
     ]
    }
   ],
   "source": [
    "def thoughts_to_store():\n",
    "    \n"
   ]
  },
  {
   "cell_type": "code",
   "execution_count": 3,
   "metadata": {},
   "outputs": [],
   "source": [
    "\n",
    "# Example Usage\n",
    "task_forge = TaskForge('TaskForge.md')\n",
    "\n",
    "# Update tasks for Books\n",
    "task_forge.update_tasks(\"Books\", [\"The Great Gatsby\", \"1984\", \"To Kill a Mockingbird\"], priority=7)\n",
    "\n",
    "# Update tasks for Movies\n",
    "task_forge.update_tasks(\"Movies\", [\"Inception\", \"The Matrix\", \"The Shawshank Redemption\"], priority=5)\n",
    "\n",
    "# Update tasks for Music\n",
    "task_forge.update_tasks(\"Music\", [\"Album 1\", \"Song 2\", \"Playlist 3\"], priority=8)\n",
    "\n",
    "# Update tasks for Meditation\n",
    "task_forge.update_tasks(\"Meditation\", [\"Morning meditation\", \"Evening meditation\", \"Mindful breathing exercise\"], priority=9)\n",
    "\n",
    "# Update history for Books\n",
    "task_forge.update_history(\"Books\", [\"Completed: The Catcher in the Rye\", \"Abandoned: The Old Man and the Sea\"])\n",
    "\n",
    "# Update history for Movies\n",
    "task_forge.update_history(\"Movies\", [\"Watched: Inception\", \"To Watch: The Godfather\"])\n",
    "\n",
    "# Update history for Music\n",
    "task_forge.update_history(\"Music\", [\"Listened to Album 1\", \"Skipped Song 2\"])\n"
   ]
  },
  {
   "cell_type": "code",
   "execution_count": 6,
   "metadata": {},
   "outputs": [
    {
     "name": "stdout",
     "output_type": "stream",
     "text": [
      "Meditation history file not found.\n",
      "No meditation history found.\n",
      "\n",
      "=== TASK PROMPT ===\n",
      "Have you completed the following tasks?\n",
      "\n",
      "=== Books ===\n",
      "\n",
      "- The Great Gatsby\n",
      "- 1984\n",
      "- To Kill a Mockingbird\n",
      "\n",
      "=== Movies ===\n",
      "\n",
      "- Inception\n",
      "- The Matrix\n",
      "- The Shawshank Redemption\n",
      "\n",
      "=== Music ===\n",
      "\n",
      "- Album 1\n",
      "- Song 2\n",
      "- Playlist 3\n",
      "\n",
      "=== Meditation ===\n",
      "\n",
      "- Morning meditation\n",
      "- Evening meditation\n",
      "- Mindful breathing exercise\n",
      "Meditation history file not found.\n",
      "No meditation history found.\n",
      "\n",
      "=== TASK PROMPT ===\n",
      "Have you completed the following tasks?\n",
      "\n",
      "=== Books ===\n",
      "\n",
      "- The Great Gatsby\n",
      "- 1984\n",
      "- To Kill a Mockingbird\n",
      "\n",
      "=== Movies ===\n",
      "\n",
      "- Inception\n",
      "- The Matrix\n",
      "- The Shawshank Redemption\n",
      "\n",
      "=== Music ===\n",
      "\n",
      "- Album 1\n",
      "- Song 2\n",
      "- Playlist 3\n",
      "\n",
      "=== Meditation ===\n",
      "\n",
      "- Morning meditation\n",
      "- Evening meditation\n",
      "- Mindful breathing exercise\n",
      "Meditation history file not found.\n",
      "No meditation history found.\n",
      "\n",
      "=== TASK PROMPT ===\n",
      "Have you completed the following tasks?\n",
      "\n",
      "=== Books ===\n",
      "\n",
      "- The Great Gatsby\n",
      "- 1984\n",
      "- To Kill a Mockingbird\n",
      "\n",
      "=== Movies ===\n",
      "\n",
      "- Inception\n",
      "- The Matrix\n",
      "- The Shawshank Redemption\n",
      "\n",
      "=== Music ===\n",
      "\n",
      "- Album 1\n",
      "- Song 2\n",
      "- Playlist 3\n"
     ]
    },
    {
     "ename": "KeyboardInterrupt",
     "evalue": "Interrupted by user",
     "output_type": "error",
     "traceback": [
      "\u001b[1;31m---------------------------------------------------------------------------\u001b[0m",
      "\u001b[1;31mKeyboardInterrupt\u001b[0m                         Traceback (most recent call last)",
      "Cell \u001b[1;32mIn[6], line 40\u001b[0m\n\u001b[0;32m     37\u001b[0m \u001b[38;5;28;01mfor\u001b[39;00m task_item \u001b[38;5;129;01min\u001b[39;00m tasks_list:\n\u001b[0;32m     38\u001b[0m     \u001b[38;5;28mprint\u001b[39m(task_item\u001b[38;5;241m.\u001b[39mstrip())\n\u001b[1;32m---> 40\u001b[0m completion_status \u001b[38;5;241m=\u001b[39m \u001b[38;5;28minput\u001b[39m(\u001b[38;5;124mf\u001b[39m\u001b[38;5;124m\"\u001b[39m\u001b[38;5;130;01m\\n\u001b[39;00m\u001b[38;5;124mHave you completed all \u001b[39m\u001b[38;5;132;01m{\u001b[39;00mtask_name\u001b[38;5;132;01m}\u001b[39;00m\u001b[38;5;124m tasks? (yes/no): \u001b[39m\u001b[38;5;124m\"\u001b[39m)\u001b[38;5;241m.\u001b[39mlower()\n\u001b[0;32m     41\u001b[0m \u001b[38;5;28;01mif\u001b[39;00m completion_status \u001b[38;5;241m==\u001b[39m \u001b[38;5;124m'\u001b[39m\u001b[38;5;124mno\u001b[39m\u001b[38;5;124m'\u001b[39m:\n\u001b[0;32m     42\u001b[0m     \u001b[38;5;28mprint\u001b[39m(\u001b[38;5;124mf\u001b[39m\u001b[38;5;124m\"\u001b[39m\u001b[38;5;124mDon\u001b[39m\u001b[38;5;124m'\u001b[39m\u001b[38;5;124mt forget to complete your \u001b[39m\u001b[38;5;132;01m{\u001b[39;00mtask_name\u001b[38;5;241m.\u001b[39mlower()\u001b[38;5;132;01m}\u001b[39;00m\u001b[38;5;124m tasks with priority \u001b[39m\u001b[38;5;132;01m{\u001b[39;00mpriority\u001b[38;5;132;01m}\u001b[39;00m\u001b[38;5;124m!\u001b[39m\u001b[38;5;130;01m\\n\u001b[39;00m\u001b[38;5;124m\"\u001b[39m)\n",
      "File \u001b[1;32mc:\\Users\\saket\\anaconda3\\Lib\\site-packages\\ipykernel\\kernelbase.py:1202\u001b[0m, in \u001b[0;36mKernel.raw_input\u001b[1;34m(self, prompt)\u001b[0m\n\u001b[0;32m   1200\u001b[0m     msg \u001b[38;5;241m=\u001b[39m \u001b[38;5;124m\"\u001b[39m\u001b[38;5;124mraw_input was called, but this frontend does not support input requests.\u001b[39m\u001b[38;5;124m\"\u001b[39m\n\u001b[0;32m   1201\u001b[0m     \u001b[38;5;28;01mraise\u001b[39;00m StdinNotImplementedError(msg)\n\u001b[1;32m-> 1202\u001b[0m \u001b[38;5;28;01mreturn\u001b[39;00m \u001b[38;5;28mself\u001b[39m\u001b[38;5;241m.\u001b[39m_input_request(\n\u001b[0;32m   1203\u001b[0m     \u001b[38;5;28mstr\u001b[39m(prompt),\n\u001b[0;32m   1204\u001b[0m     \u001b[38;5;28mself\u001b[39m\u001b[38;5;241m.\u001b[39m_parent_ident[\u001b[38;5;124m\"\u001b[39m\u001b[38;5;124mshell\u001b[39m\u001b[38;5;124m\"\u001b[39m],\n\u001b[0;32m   1205\u001b[0m     \u001b[38;5;28mself\u001b[39m\u001b[38;5;241m.\u001b[39mget_parent(\u001b[38;5;124m\"\u001b[39m\u001b[38;5;124mshell\u001b[39m\u001b[38;5;124m\"\u001b[39m),\n\u001b[0;32m   1206\u001b[0m     password\u001b[38;5;241m=\u001b[39m\u001b[38;5;28;01mFalse\u001b[39;00m,\n\u001b[0;32m   1207\u001b[0m )\n",
      "File \u001b[1;32mc:\\Users\\saket\\anaconda3\\Lib\\site-packages\\ipykernel\\kernelbase.py:1245\u001b[0m, in \u001b[0;36mKernel._input_request\u001b[1;34m(self, prompt, ident, parent, password)\u001b[0m\n\u001b[0;32m   1242\u001b[0m \u001b[38;5;28;01mexcept\u001b[39;00m \u001b[38;5;167;01mKeyboardInterrupt\u001b[39;00m:\n\u001b[0;32m   1243\u001b[0m     \u001b[38;5;66;03m# re-raise KeyboardInterrupt, to truncate traceback\u001b[39;00m\n\u001b[0;32m   1244\u001b[0m     msg \u001b[38;5;241m=\u001b[39m \u001b[38;5;124m\"\u001b[39m\u001b[38;5;124mInterrupted by user\u001b[39m\u001b[38;5;124m\"\u001b[39m\n\u001b[1;32m-> 1245\u001b[0m     \u001b[38;5;28;01mraise\u001b[39;00m \u001b[38;5;167;01mKeyboardInterrupt\u001b[39;00m(msg) \u001b[38;5;28;01mfrom\u001b[39;00m \u001b[38;5;28;01mNone\u001b[39;00m\n\u001b[0;32m   1246\u001b[0m \u001b[38;5;28;01mexcept\u001b[39;00m \u001b[38;5;167;01mException\u001b[39;00m:\n\u001b[0;32m   1247\u001b[0m     \u001b[38;5;28mself\u001b[39m\u001b[38;5;241m.\u001b[39mlog\u001b[38;5;241m.\u001b[39mwarning(\u001b[38;5;124m\"\u001b[39m\u001b[38;5;124mInvalid Message:\u001b[39m\u001b[38;5;124m\"\u001b[39m, exc_info\u001b[38;5;241m=\u001b[39m\u001b[38;5;28;01mTrue\u001b[39;00m)\n",
      "\u001b[1;31mKeyboardInterrupt\u001b[0m: Interrupted by user"
     ]
    }
   ],
   "source": [
    "# import time\n",
    "\n",
    "# # Example Usage\n",
    "# task_forge = TaskForge('TaskForge.md')\n",
    "\n",
    "# while True:\n",
    "#     # Check if you have meditated today\n",
    "#     meditation_elapsed_time = task_forge.check_meditation()\n",
    "#     if meditation_elapsed_time:\n",
    "#         print(f\"It's been {meditation_elapsed_time.days} days, {meditation_elapsed_time.seconds // 3600} hours, and \"\n",
    "#               f\"{(meditation_elapsed_time.seconds // 60) % 60} minutes since your last meditation.\")\n",
    "#     else:\n",
    "#         print(\"No meditation history found.\")\n",
    "\n",
    "#     # Check and prompt for other tasks\n",
    "#     print(\"\\n=== TASK PROMPT ===\")\n",
    "#     print(\"Have you completed the following tasks?\")\n",
    "    \n",
    "#     # You can customize the tasks and priorities here\n",
    "#     tasks_to_check = [\n",
    "#         {\"task\": \"Books\", \"priority\": 7},\n",
    "#         {\"task\": \"Movies\", \"priority\": 5},\n",
    "#         {\"task\": \"Music\", \"priority\": 8},\n",
    "#         {\"task\": \"Meditation\", \"priority\": 9},\n",
    "#     ]\n",
    "\n",
    "#     for task_info in tasks_to_check:\n",
    "#         task_name = task_info[\"task\"]\n",
    "#         priority = task_info[\"priority\"]\n",
    "\n",
    "#         tasks_file_path = f\"{task_name.lower()}.tasks.md\"\n",
    "#         if os.path.exists(tasks_file_path):\n",
    "#             with open(tasks_file_path, 'r') as tasks_file:\n",
    "#                 tasks_list = tasks_file.readlines()[3:]  # Skip the header\n",
    "\n",
    "#             print(f\"\\n=== {task_name} ===\")\n",
    "#             for task_item in tasks_list:\n",
    "#                 print(task_item.strip())\n",
    "\n",
    "#             completion_status = input(f\"\\nHave you completed all {task_name} tasks? (yes/no): \").lower()\n",
    "#             if completion_status == 'no':\n",
    "#                 print(f\"Don't forget to complete your {task_name.lower()} tasks with priority {priority}!\\n\")\n",
    "\n",
    "\n",
    "#     # Wait for a while before checking again (you can adjust the duration)\n",
    "#     # time.sleep(3600)  # Sleep for 1 hour\n"
   ]
  },
  {
   "cell_type": "code",
   "execution_count": null,
   "metadata": {},
   "outputs": [],
   "source": []
  }
 ],
 "metadata": {
  "kernelspec": {
   "display_name": "base",
   "language": "python",
   "name": "python3"
  },
  "language_info": {
   "codemirror_mode": {
    "name": "ipython",
    "version": 3
   },
   "file_extension": ".py",
   "mimetype": "text/x-python",
   "name": "python",
   "nbconvert_exporter": "python",
   "pygments_lexer": "ipython3",
   "version": "3.11.5"
  }
 },
 "nbformat": 4,
 "nbformat_minor": 2
}
